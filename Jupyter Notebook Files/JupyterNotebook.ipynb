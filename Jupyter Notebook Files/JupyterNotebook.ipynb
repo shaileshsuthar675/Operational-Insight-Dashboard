{
 "cells": [
  {
   "cell_type": "code",
   "execution_count": 1,
   "id": "d3205ebd-12e0-4182-879a-b46646779e64",
   "metadata": {},
   "outputs": [],
   "source": [
    "import pandas as pd\n",
    "import numpy as np"
   ]
  },
  {
   "cell_type": "code",
   "execution_count": 2,
   "id": "e7d5560b-cbc4-4b76-9fc1-574f9ab96a90",
   "metadata": {},
   "outputs": [],
   "source": [
    "import matplotlib.pyplot as plt\n",
    "%matplotlib inline"
   ]
  },
  {
   "cell_type": "code",
   "execution_count": 3,
   "id": "3e6b4c48-d643-4d54-bf05-0e18e8f3d5d4",
   "metadata": {},
   "outputs": [],
   "source": [
    "import seaborn as sns"
   ]
  },
  {
   "cell_type": "code",
   "execution_count": 4,
   "id": "51282f7e-3a7c-4839-ac0b-58a86dfecaa8",
   "metadata": {},
   "outputs": [],
   "source": [
    "import warnings\n",
    "warnings.filterwarnings('ignore')"
   ]
  },
  {
   "cell_type": "markdown",
   "id": "b4aae0b2-5b11-4b55-86c8-aae086c9af7e",
   "metadata": {},
   "source": [
    "## 1. Data Access"
   ]
  },
  {
   "cell_type": "code",
   "execution_count": 5,
   "id": "11197742-1df7-420e-8f76-0c40f9d06721",
   "metadata": {},
   "outputs": [
    {
     "data": {
      "text/html": [
       "<div>\n",
       "<style scoped>\n",
       "    .dataframe tbody tr th:only-of-type {\n",
       "        vertical-align: middle;\n",
       "    }\n",
       "\n",
       "    .dataframe tbody tr th {\n",
       "        vertical-align: top;\n",
       "    }\n",
       "\n",
       "    .dataframe thead th {\n",
       "        text-align: right;\n",
       "    }\n",
       "</style>\n",
       "<table border=\"1\" class=\"dataframe\">\n",
       "  <thead>\n",
       "    <tr style=\"text-align: right;\">\n",
       "      <th></th>\n",
       "      <th>id</th>\n",
       "      <th>subject</th>\n",
       "      <th>group_id</th>\n",
       "      <th>assigneeName</th>\n",
       "      <th>status</th>\n",
       "      <th>priority</th>\n",
       "      <th>created_at</th>\n",
       "      <th>updated_at</th>\n",
       "      <th>channel</th>\n",
       "      <th>organization_id</th>\n",
       "      <th>Product</th>\n",
       "      <th>Alert Severity</th>\n",
       "      <th>Product Platform</th>\n",
       "      <th>Product Category</th>\n",
       "      <th>Customer First Response (UTC)</th>\n",
       "    </tr>\n",
       "  </thead>\n",
       "  <tbody>\n",
       "    <tr>\n",
       "      <th>0</th>\n",
       "      <td>5437</td>\n",
       "      <td>spam</td>\n",
       "      <td>SRC - L1</td>\n",
       "      <td>John brain</td>\n",
       "      <td>open</td>\n",
       "      <td>NaN</td>\n",
       "      <td>Dec 26, 2023, 01:35 AM</td>\n",
       "      <td>Dec 26, 2023, 01:36 AM</td>\n",
       "      <td>web</td>\n",
       "      <td>Microsoft SRC</td>\n",
       "      <td>NaN</td>\n",
       "      <td>NaN</td>\n",
       "      <td>NaN</td>\n",
       "      <td>NaN</td>\n",
       "      <td>NaN</td>\n",
       "    </tr>\n",
       "    <tr>\n",
       "      <th>1</th>\n",
       "      <td>5436</td>\n",
       "      <td>Infinity - SentinelOne - Black Hash is added/...</td>\n",
       "      <td>SRC - L1</td>\n",
       "      <td>Nir Handa</td>\n",
       "      <td>solved</td>\n",
       "      <td>normal</td>\n",
       "      <td>Dec 26, 2023, 12:57 AM</td>\n",
       "      <td>Dec 26, 2023, 01:00 AM</td>\n",
       "      <td>web</td>\n",
       "      <td>Infinity</td>\n",
       "      <td>generic_/_other__temp</td>\n",
       "      <td>medium</td>\n",
       "      <td>on-prem</td>\n",
       "      <td>endpointsecurityedr</td>\n",
       "      <td>2023-12-26T09:00:33Z</td>\n",
       "    </tr>\n",
       "    <tr>\n",
       "      <th>2</th>\n",
       "      <td>5435</td>\n",
       "      <td>Suspicious email with malicious attachment</td>\n",
       "      <td>SRC - L1</td>\n",
       "      <td>NaN</td>\n",
       "      <td>open</td>\n",
       "      <td>high</td>\n",
       "      <td>Dec 26, 2023, 12:52 AM</td>\n",
       "      <td>Dec 26, 2023, 12:59 AM</td>\n",
       "      <td>web</td>\n",
       "      <td>Bosch</td>\n",
       "      <td>NaN</td>\n",
       "      <td>NaN</td>\n",
       "      <td>NaN</td>\n",
       "      <td>NaN</td>\n",
       "      <td>NaN</td>\n",
       "    </tr>\n",
       "  </tbody>\n",
       "</table>\n",
       "</div>"
      ],
      "text/plain": [
       "     id                                            subject  group_id  \\\n",
       "0  5437                                               spam  SRC - L1   \n",
       "1  5436   Infinity - SentinelOne - Black Hash is added/...  SRC - L1   \n",
       "2  5435         Suspicious email with malicious attachment  SRC - L1   \n",
       "\n",
       "  assigneeName  status priority              created_at  \\\n",
       "0   John brain    open      NaN  Dec 26, 2023, 01:35 AM   \n",
       "1    Nir Handa  solved   normal  Dec 26, 2023, 12:57 AM   \n",
       "2          NaN    open     high  Dec 26, 2023, 12:52 AM   \n",
       "\n",
       "               updated_at channel organization_id                Product  \\\n",
       "0  Dec 26, 2023, 01:36 AM     web   Microsoft SRC                    NaN   \n",
       "1  Dec 26, 2023, 01:00 AM     web        Infinity  generic_/_other__temp   \n",
       "2  Dec 26, 2023, 12:59 AM     web           Bosch                    NaN   \n",
       "\n",
       "  Alert Severity Product Platform     Product Category  \\\n",
       "0            NaN              NaN                  NaN   \n",
       "1         medium          on-prem  endpointsecurityedr   \n",
       "2            NaN              NaN                  NaN   \n",
       "\n",
       "  Customer First Response (UTC)  \n",
       "0                           NaN  \n",
       "1          2023-12-26T09:00:33Z  \n",
       "2                           NaN  "
      ]
     },
     "execution_count": 5,
     "metadata": {},
     "output_type": "execute_result"
    }
   ],
   "source": [
    "# Data Loading\n",
    "filepath = r\"Reporting Analyst Task.csv\"\n",
    "\n",
    "df = pd.read_csv(filepath)\n",
    "df.head(3)"
   ]
  },
  {
   "cell_type": "code",
   "execution_count": 6,
   "id": "8f42a8e2-b0e2-48c8-9f74-077a7e8d0d1e",
   "metadata": {},
   "outputs": [
    {
     "data": {
      "text/plain": [
       "15"
      ]
     },
     "execution_count": 6,
     "metadata": {},
     "output_type": "execute_result"
    }
   ],
   "source": [
    "len(df.columns)"
   ]
  },
  {
   "cell_type": "code",
   "execution_count": 7,
   "id": "566ab917-4742-4da2-8db5-9c6299160c35",
   "metadata": {
    "scrolled": true
   },
   "outputs": [
    {
     "name": "stdout",
     "output_type": "stream",
     "text": [
      "<class 'pandas.core.frame.DataFrame'>\n",
      "RangeIndex: 5003 entries, 0 to 5002\n",
      "Data columns (total 15 columns):\n",
      " #   Column                         Non-Null Count  Dtype \n",
      "---  ------                         --------------  ----- \n",
      " 0   id                             5003 non-null   int64 \n",
      " 1   subject                        5003 non-null   object\n",
      " 2   group_id                       5003 non-null   object\n",
      " 3   assigneeName                   4939 non-null   object\n",
      " 4   status                         5003 non-null   object\n",
      " 5   priority                       4877 non-null   object\n",
      " 6   created_at                     5003 non-null   object\n",
      " 7   updated_at                     5003 non-null   object\n",
      " 8   channel                        5003 non-null   object\n",
      " 9   organization_id                4967 non-null   object\n",
      " 10  Product                        4419 non-null   object\n",
      " 11  Alert Severity                 4505 non-null   object\n",
      " 12  Product Platform               3110 non-null   object\n",
      " 13  Product Category               4599 non-null   object\n",
      " 14  Customer First Response (UTC)  502 non-null    object\n",
      "dtypes: int64(1), object(14)\n",
      "memory usage: 586.4+ KB\n"
     ]
    }
   ],
   "source": [
    "df.info()"
   ]
  },
  {
   "cell_type": "markdown",
   "id": "0cf1c05d-d6a3-4e25-8897-b92900ad6070",
   "metadata": {},
   "source": [
    "## 2. Data Sanitization"
   ]
  },
  {
   "cell_type": "markdown",
   "id": "12185d46-f876-47a8-9a05-597699791811",
   "metadata": {},
   "source": [
    "#### 2.1 Updating Column Name & Addessing Missing Values\n",
    "\n",
    "1. Updates:\n",
    "- Column Names: Cleaned for consistency, replacing spaces and parentheses with underscores and converting to lowercase.\n",
    "- Date Columns: Converted created_at, updated_at, and customer_first_response_utc to datetime.\n",
    "\n",
    "\n",
    "2. Missing Values:\n",
    "- Some columns have substantial missing values:\n",
    "- customer_first_response_utc: 90% missing.\n",
    "- product_platform: 38% missing.\n",
    "- alert_severity: 10% missing."
   ]
  },
  {
   "cell_type": "code",
   "execution_count": 8,
   "id": "d4f0e65b-75e1-4ac3-9eb5-55c13078a4e3",
   "metadata": {},
   "outputs": [
    {
     "data": {
      "text/plain": [
       "Index(['id', 'subject', 'group_id', 'assigneename', 'status', 'priority',\n",
       "       'created_at', 'updated_at', 'channel', 'organization_id', 'product',\n",
       "       'alert_severity', 'product_platform', 'product_category',\n",
       "       'customer_first_response_utc'],\n",
       "      dtype='object')"
      ]
     },
     "execution_count": 8,
     "metadata": {},
     "output_type": "execute_result"
    }
   ],
   "source": [
    "# Clean column names for consistency (replace spaces and special characters with underscores)\n",
    "df.columns = df.columns.str.strip().str.replace(\" \", \"_\").str.replace(\"(\", \"\").str.replace(\")\", \"\").str.lower()\n",
    "\n",
    "# Convert date columns to datetime for proper handling\n",
    "df_date_columns = [\"created_at\", \"updated_at\", \"customer_first_response_utc\"]\n",
    "for col in df_date_columns:\n",
    "    df[col] = pd.to_datetime(df[col], errors=\"coerce\")\n",
    "\n",
    "# Check for missing values in the dataset\n",
    "missing_summary = df.isnull().sum()\n",
    "\n",
    "# Display cleaned column names and missing value summary\n",
    "df.columns\n"
   ]
  },
  {
   "cell_type": "code",
   "execution_count": 9,
   "id": "a1f57109-2172-4333-8f5f-f8b9a439e86f",
   "metadata": {},
   "outputs": [
    {
     "data": {
      "text/plain": [
       "{'id': 0,\n",
       " 'subject': 0,\n",
       " 'group_id': 0,\n",
       " 'assigneename': 64,\n",
       " 'status': 0,\n",
       " 'priority': 126,\n",
       " 'created_at': 0,\n",
       " 'updated_at': 0,\n",
       " 'channel': 0,\n",
       " 'organization_id': 36,\n",
       " 'product': 584,\n",
       " 'alert_severity': 498,\n",
       " 'product_platform': 1893,\n",
       " 'product_category': 404,\n",
       " 'customer_first_response_utc': 4506}"
      ]
     },
     "execution_count": 9,
     "metadata": {},
     "output_type": "execute_result"
    }
   ],
   "source": [
    "dict(missing_summary)"
   ]
  },
  {
   "cell_type": "code",
   "execution_count": 10,
   "id": "b97bae24-6269-4343-8275-a1ac4d244c7f",
   "metadata": {},
   "outputs": [
    {
     "data": {
      "text/html": [
       "<div>\n",
       "<style scoped>\n",
       "    .dataframe tbody tr th:only-of-type {\n",
       "        vertical-align: middle;\n",
       "    }\n",
       "\n",
       "    .dataframe tbody tr th {\n",
       "        vertical-align: top;\n",
       "    }\n",
       "\n",
       "    .dataframe thead th {\n",
       "        text-align: right;\n",
       "    }\n",
       "</style>\n",
       "<table border=\"1\" class=\"dataframe\">\n",
       "  <thead>\n",
       "    <tr style=\"text-align: right;\">\n",
       "      <th></th>\n",
       "      <th>datecolumn</th>\n",
       "      <th>Missing Values</th>\n",
       "    </tr>\n",
       "  </thead>\n",
       "  <tbody>\n",
       "    <tr>\n",
       "      <th>0</th>\n",
       "      <td>id</td>\n",
       "      <td>0</td>\n",
       "    </tr>\n",
       "    <tr>\n",
       "      <th>1</th>\n",
       "      <td>subject</td>\n",
       "      <td>0</td>\n",
       "    </tr>\n",
       "    <tr>\n",
       "      <th>2</th>\n",
       "      <td>group_id</td>\n",
       "      <td>0</td>\n",
       "    </tr>\n",
       "    <tr>\n",
       "      <th>3</th>\n",
       "      <td>assigneename</td>\n",
       "      <td>64</td>\n",
       "    </tr>\n",
       "    <tr>\n",
       "      <th>4</th>\n",
       "      <td>status</td>\n",
       "      <td>0</td>\n",
       "    </tr>\n",
       "    <tr>\n",
       "      <th>5</th>\n",
       "      <td>priority</td>\n",
       "      <td>126</td>\n",
       "    </tr>\n",
       "    <tr>\n",
       "      <th>6</th>\n",
       "      <td>created_at</td>\n",
       "      <td>0</td>\n",
       "    </tr>\n",
       "    <tr>\n",
       "      <th>7</th>\n",
       "      <td>updated_at</td>\n",
       "      <td>0</td>\n",
       "    </tr>\n",
       "    <tr>\n",
       "      <th>8</th>\n",
       "      <td>channel</td>\n",
       "      <td>0</td>\n",
       "    </tr>\n",
       "    <tr>\n",
       "      <th>9</th>\n",
       "      <td>organization_id</td>\n",
       "      <td>36</td>\n",
       "    </tr>\n",
       "    <tr>\n",
       "      <th>10</th>\n",
       "      <td>product</td>\n",
       "      <td>584</td>\n",
       "    </tr>\n",
       "    <tr>\n",
       "      <th>11</th>\n",
       "      <td>alert_severity</td>\n",
       "      <td>498</td>\n",
       "    </tr>\n",
       "    <tr>\n",
       "      <th>12</th>\n",
       "      <td>product_platform</td>\n",
       "      <td>1893</td>\n",
       "    </tr>\n",
       "    <tr>\n",
       "      <th>13</th>\n",
       "      <td>product_category</td>\n",
       "      <td>404</td>\n",
       "    </tr>\n",
       "    <tr>\n",
       "      <th>14</th>\n",
       "      <td>customer_first_response_utc</td>\n",
       "      <td>4506</td>\n",
       "    </tr>\n",
       "  </tbody>\n",
       "</table>\n",
       "</div>"
      ],
      "text/plain": [
       "                     datecolumn  Missing Values\n",
       "0                            id               0\n",
       "1                       subject               0\n",
       "2                      group_id               0\n",
       "3                  assigneename              64\n",
       "4                        status               0\n",
       "5                      priority             126\n",
       "6                    created_at               0\n",
       "7                    updated_at               0\n",
       "8                       channel               0\n",
       "9               organization_id              36\n",
       "10                      product             584\n",
       "11               alert_severity             498\n",
       "12             product_platform            1893\n",
       "13             product_category             404\n",
       "14  customer_first_response_utc            4506"
      ]
     },
     "execution_count": 10,
     "metadata": {},
     "output_type": "execute_result"
    }
   ],
   "source": [
    "pd.DataFrame(list(missing_summary.items()), columns=['datecolumn', 'Missing Values'])"
   ]
  },
  {
   "cell_type": "markdown",
   "id": "44d389f7-eac1-40a1-ad63-1c9339e8cb34",
   "metadata": {},
   "source": [
    "#### 2.2 Handeling Missing Value\n",
    "\n",
    "- **Filled Missing Values:**\n",
    "- priority: Replaced missing values with \"unknown.\"\n",
    "- assigneename and organization_id: Filled with \"unassigned\" and \"unknown,\" respectively.\n",
    "- alert_severity, product, product_platform, and product_category: Filled with \"not_specified\" or \"unknown.\"\n",
    "- Dropped customer_first_response_utc due to excessive missing data.\n",
    "- Removed Duplicates: Ensured all records are unique."
   ]
  },
  {
   "cell_type": "code",
   "execution_count": 11,
   "id": "d7c29e68-0487-4555-bbca-44aab43c0028",
   "metadata": {},
   "outputs": [
    {
     "data": {
      "text/plain": [
       "((5003, 14),\n",
       " id                  0\n",
       " subject             0\n",
       " group_id            0\n",
       " assigneename        0\n",
       " status              0\n",
       " priority            0\n",
       " created_at          0\n",
       " updated_at          0\n",
       " channel             0\n",
       " organization_id     0\n",
       " product             0\n",
       " alert_severity      0\n",
       " product_platform    0\n",
       " product_category    0\n",
       " dtype: int64)"
      ]
     },
     "execution_count": 11,
     "metadata": {},
     "output_type": "execute_result"
    }
   ],
   "source": [
    "# Handle missing values based on column significance\n",
    "# Fill missing `priority` with 'unknown' as it might be categorical\n",
    "df['priority'].fillna('unknown', inplace=True)\n",
    "\n",
    "# Fill missing `assigneename` and `organization_id` with 'unassigned' and 'unknown' respectively\n",
    "df['assigneename'].fillna('unassigned', inplace=True)\n",
    "df['organization_id'].fillna('unknown', inplace=True)\n",
    "\n",
    "# Drop `customer_first_response_utc` due to excessive missing values (90%)\n",
    "df.drop(columns=['customer_first_response_utc'], inplace=True)\n",
    "\n",
    "# Fill missing `alert_severity` and `product` with 'not_specified'\n",
    "df['alert_severity'].fillna('not_specified', inplace=True)\n",
    "df['product'].fillna('not_specified', inplace=True)\n",
    "\n",
    "# Fill `product_platform` and `product_category` with 'unknown' as they may be categorical\n",
    "df['product_platform'].fillna('unknown', inplace=True)\n",
    "df['product_category'].fillna('unknown', inplace=True)\n",
    "\n",
    "# Remove duplicates if any\n",
    "df_cleaned = df.drop_duplicates()\n",
    "\n",
    "# Re-check for missing values and the dataset shape after cleaning\n",
    "missing_summary_cleaned = df_cleaned.isnull().sum()\n",
    "df_cleaned.shape, missing_summary_cleaned"
   ]
  },
  {
   "cell_type": "code",
   "execution_count": 12,
   "id": "e813d270-54a0-4a3f-bb58-0c91966c7cd2",
   "metadata": {},
   "outputs": [
    {
     "data": {
      "text/html": [
       "<div>\n",
       "<style scoped>\n",
       "    .dataframe tbody tr th:only-of-type {\n",
       "        vertical-align: middle;\n",
       "    }\n",
       "\n",
       "    .dataframe tbody tr th {\n",
       "        vertical-align: top;\n",
       "    }\n",
       "\n",
       "    .dataframe thead th {\n",
       "        text-align: right;\n",
       "    }\n",
       "</style>\n",
       "<table border=\"1\" class=\"dataframe\">\n",
       "  <thead>\n",
       "    <tr style=\"text-align: right;\">\n",
       "      <th></th>\n",
       "      <th>count</th>\n",
       "      <th>unique</th>\n",
       "      <th>top</th>\n",
       "      <th>freq</th>\n",
       "      <th>mean</th>\n",
       "      <th>min</th>\n",
       "      <th>25%</th>\n",
       "      <th>50%</th>\n",
       "      <th>75%</th>\n",
       "      <th>max</th>\n",
       "      <th>std</th>\n",
       "    </tr>\n",
       "  </thead>\n",
       "  <tbody>\n",
       "    <tr>\n",
       "      <th>id</th>\n",
       "      <td>5003.0</td>\n",
       "      <td>NaN</td>\n",
       "      <td>NaN</td>\n",
       "      <td>NaN</td>\n",
       "      <td>2712.81731</td>\n",
       "      <td>1.0</td>\n",
       "      <td>1382.5</td>\n",
       "      <td>2686.0</td>\n",
       "      <td>4050.5</td>\n",
       "      <td>5437.0</td>\n",
       "      <td>1555.229344</td>\n",
       "    </tr>\n",
       "    <tr>\n",
       "      <th>subject</th>\n",
       "      <td>5003</td>\n",
       "      <td>2496</td>\n",
       "      <td>Bosch - GuardDuty warning event</td>\n",
       "      <td>122</td>\n",
       "      <td>NaN</td>\n",
       "      <td>NaN</td>\n",
       "      <td>NaN</td>\n",
       "      <td>NaN</td>\n",
       "      <td>NaN</td>\n",
       "      <td>NaN</td>\n",
       "      <td>NaN</td>\n",
       "    </tr>\n",
       "    <tr>\n",
       "      <th>group_id</th>\n",
       "      <td>5003</td>\n",
       "      <td>8</td>\n",
       "      <td>SRC - L1</td>\n",
       "      <td>4712</td>\n",
       "      <td>NaN</td>\n",
       "      <td>NaN</td>\n",
       "      <td>NaN</td>\n",
       "      <td>NaN</td>\n",
       "      <td>NaN</td>\n",
       "      <td>NaN</td>\n",
       "      <td>NaN</td>\n",
       "    </tr>\n",
       "    <tr>\n",
       "      <th>assigneename</th>\n",
       "      <td>5003</td>\n",
       "      <td>29</td>\n",
       "      <td>Gil Kamalakannan</td>\n",
       "      <td>848</td>\n",
       "      <td>NaN</td>\n",
       "      <td>NaN</td>\n",
       "      <td>NaN</td>\n",
       "      <td>NaN</td>\n",
       "      <td>NaN</td>\n",
       "      <td>NaN</td>\n",
       "      <td>NaN</td>\n",
       "    </tr>\n",
       "    <tr>\n",
       "      <th>status</th>\n",
       "      <td>5003</td>\n",
       "      <td>6</td>\n",
       "      <td>closed</td>\n",
       "      <td>4784</td>\n",
       "      <td>NaN</td>\n",
       "      <td>NaN</td>\n",
       "      <td>NaN</td>\n",
       "      <td>NaN</td>\n",
       "      <td>NaN</td>\n",
       "      <td>NaN</td>\n",
       "      <td>NaN</td>\n",
       "    </tr>\n",
       "    <tr>\n",
       "      <th>priority</th>\n",
       "      <td>5003</td>\n",
       "      <td>5</td>\n",
       "      <td>high</td>\n",
       "      <td>2867</td>\n",
       "      <td>NaN</td>\n",
       "      <td>NaN</td>\n",
       "      <td>NaN</td>\n",
       "      <td>NaN</td>\n",
       "      <td>NaN</td>\n",
       "      <td>NaN</td>\n",
       "      <td>NaN</td>\n",
       "    </tr>\n",
       "    <tr>\n",
       "      <th>created_at</th>\n",
       "      <td>5003</td>\n",
       "      <td>NaN</td>\n",
       "      <td>NaN</td>\n",
       "      <td>NaN</td>\n",
       "      <td>2023-06-27 18:22:16.681990656</td>\n",
       "      <td>2022-03-21 04:23:00</td>\n",
       "      <td>2023-04-06 00:08:00</td>\n",
       "      <td>2023-06-30 18:41:00</td>\n",
       "      <td>2023-09-25 18:22:00</td>\n",
       "      <td>2023-12-26 01:35:00</td>\n",
       "      <td>NaN</td>\n",
       "    </tr>\n",
       "    <tr>\n",
       "      <th>updated_at</th>\n",
       "      <td>5003</td>\n",
       "      <td>NaN</td>\n",
       "      <td>NaN</td>\n",
       "      <td>NaN</td>\n",
       "      <td>2023-07-11 03:27:15.230861568</td>\n",
       "      <td>2022-04-28 00:02:00</td>\n",
       "      <td>2023-04-14 03:06:00</td>\n",
       "      <td>2023-07-17 06:07:00</td>\n",
       "      <td>2023-10-18 23:01:00</td>\n",
       "      <td>2023-12-26 01:36:00</td>\n",
       "      <td>NaN</td>\n",
       "    </tr>\n",
       "    <tr>\n",
       "      <th>channel</th>\n",
       "      <td>5003</td>\n",
       "      <td>6</td>\n",
       "      <td>web</td>\n",
       "      <td>4933</td>\n",
       "      <td>NaN</td>\n",
       "      <td>NaN</td>\n",
       "      <td>NaN</td>\n",
       "      <td>NaN</td>\n",
       "      <td>NaN</td>\n",
       "      <td>NaN</td>\n",
       "      <td>NaN</td>\n",
       "    </tr>\n",
       "    <tr>\n",
       "      <th>organization_id</th>\n",
       "      <td>5003</td>\n",
       "      <td>40</td>\n",
       "      <td>Bosch</td>\n",
       "      <td>1048</td>\n",
       "      <td>NaN</td>\n",
       "      <td>NaN</td>\n",
       "      <td>NaN</td>\n",
       "      <td>NaN</td>\n",
       "      <td>NaN</td>\n",
       "      <td>NaN</td>\n",
       "      <td>NaN</td>\n",
       "    </tr>\n",
       "    <tr>\n",
       "      <th>product</th>\n",
       "      <td>5003</td>\n",
       "      <td>100</td>\n",
       "      <td>not_specified</td>\n",
       "      <td>584</td>\n",
       "      <td>NaN</td>\n",
       "      <td>NaN</td>\n",
       "      <td>NaN</td>\n",
       "      <td>NaN</td>\n",
       "      <td>NaN</td>\n",
       "      <td>NaN</td>\n",
       "      <td>NaN</td>\n",
       "    </tr>\n",
       "    <tr>\n",
       "      <th>alert_severity</th>\n",
       "      <td>5003</td>\n",
       "      <td>8</td>\n",
       "      <td>medium</td>\n",
       "      <td>2075</td>\n",
       "      <td>NaN</td>\n",
       "      <td>NaN</td>\n",
       "      <td>NaN</td>\n",
       "      <td>NaN</td>\n",
       "      <td>NaN</td>\n",
       "      <td>NaN</td>\n",
       "      <td>NaN</td>\n",
       "    </tr>\n",
       "    <tr>\n",
       "      <th>product_platform</th>\n",
       "      <td>5003</td>\n",
       "      <td>11</td>\n",
       "      <td>unknown</td>\n",
       "      <td>1893</td>\n",
       "      <td>NaN</td>\n",
       "      <td>NaN</td>\n",
       "      <td>NaN</td>\n",
       "      <td>NaN</td>\n",
       "      <td>NaN</td>\n",
       "      <td>NaN</td>\n",
       "      <td>NaN</td>\n",
       "    </tr>\n",
       "    <tr>\n",
       "      <th>product_category</th>\n",
       "      <td>5003</td>\n",
       "      <td>28</td>\n",
       "      <td>cloud_provider_/_service</td>\n",
       "      <td>1402</td>\n",
       "      <td>NaN</td>\n",
       "      <td>NaN</td>\n",
       "      <td>NaN</td>\n",
       "      <td>NaN</td>\n",
       "      <td>NaN</td>\n",
       "      <td>NaN</td>\n",
       "      <td>NaN</td>\n",
       "    </tr>\n",
       "  </tbody>\n",
       "</table>\n",
       "</div>"
      ],
      "text/plain": [
       "                   count unique                              top  freq  \\\n",
       "id                5003.0    NaN                              NaN   NaN   \n",
       "subject             5003   2496  Bosch - GuardDuty warning event   122   \n",
       "group_id            5003      8                         SRC - L1  4712   \n",
       "assigneename        5003     29                 Gil Kamalakannan   848   \n",
       "status              5003      6                           closed  4784   \n",
       "priority            5003      5                             high  2867   \n",
       "created_at          5003    NaN                              NaN   NaN   \n",
       "updated_at          5003    NaN                              NaN   NaN   \n",
       "channel             5003      6                              web  4933   \n",
       "organization_id     5003     40                            Bosch  1048   \n",
       "product             5003    100                    not_specified   584   \n",
       "alert_severity      5003      8                           medium  2075   \n",
       "product_platform    5003     11                          unknown  1893   \n",
       "product_category    5003     28         cloud_provider_/_service  1402   \n",
       "\n",
       "                                           mean                  min  \\\n",
       "id                                   2712.81731                  1.0   \n",
       "subject                                     NaN                  NaN   \n",
       "group_id                                    NaN                  NaN   \n",
       "assigneename                                NaN                  NaN   \n",
       "status                                      NaN                  NaN   \n",
       "priority                                    NaN                  NaN   \n",
       "created_at        2023-06-27 18:22:16.681990656  2022-03-21 04:23:00   \n",
       "updated_at        2023-07-11 03:27:15.230861568  2022-04-28 00:02:00   \n",
       "channel                                     NaN                  NaN   \n",
       "organization_id                             NaN                  NaN   \n",
       "product                                     NaN                  NaN   \n",
       "alert_severity                              NaN                  NaN   \n",
       "product_platform                            NaN                  NaN   \n",
       "product_category                            NaN                  NaN   \n",
       "\n",
       "                                  25%                  50%  \\\n",
       "id                             1382.5               2686.0   \n",
       "subject                           NaN                  NaN   \n",
       "group_id                          NaN                  NaN   \n",
       "assigneename                      NaN                  NaN   \n",
       "status                            NaN                  NaN   \n",
       "priority                          NaN                  NaN   \n",
       "created_at        2023-04-06 00:08:00  2023-06-30 18:41:00   \n",
       "updated_at        2023-04-14 03:06:00  2023-07-17 06:07:00   \n",
       "channel                           NaN                  NaN   \n",
       "organization_id                   NaN                  NaN   \n",
       "product                           NaN                  NaN   \n",
       "alert_severity                    NaN                  NaN   \n",
       "product_platform                  NaN                  NaN   \n",
       "product_category                  NaN                  NaN   \n",
       "\n",
       "                                  75%                  max          std  \n",
       "id                             4050.5               5437.0  1555.229344  \n",
       "subject                           NaN                  NaN          NaN  \n",
       "group_id                          NaN                  NaN          NaN  \n",
       "assigneename                      NaN                  NaN          NaN  \n",
       "status                            NaN                  NaN          NaN  \n",
       "priority                          NaN                  NaN          NaN  \n",
       "created_at        2023-09-25 18:22:00  2023-12-26 01:35:00          NaN  \n",
       "updated_at        2023-10-18 23:01:00  2023-12-26 01:36:00          NaN  \n",
       "channel                           NaN                  NaN          NaN  \n",
       "organization_id                   NaN                  NaN          NaN  \n",
       "product                           NaN                  NaN          NaN  \n",
       "alert_severity                    NaN                  NaN          NaN  \n",
       "product_platform                  NaN                  NaN          NaN  \n",
       "product_category                  NaN                  NaN          NaN  "
      ]
     },
     "execution_count": 12,
     "metadata": {},
     "output_type": "execute_result"
    }
   ],
   "source": [
    "# Quick summary statistics to identify trends and insights\n",
    "summary_stats = df_cleaned.describe(include=\"all\").transpose()\n",
    "\n",
    "# Analyze the distribution of key categorical columns\n",
    "category_distribution = {\n",
    "    \"status\": df_cleaned[\"status\"].value_counts(),\n",
    "    \"priority\": df_cleaned[\"priority\"].value_counts(),\n",
    "    \"alert_severity\": df_cleaned[\"alert_severity\"].value_counts(),\n",
    "    \"channel\": df_cleaned[\"channel\"].value_counts(),\n",
    "}\n",
    "\n",
    "# Display summary stats and distributions\n",
    "summary_stats\n"
   ]
  },
  {
   "cell_type": "code",
   "execution_count": 13,
   "id": "9a13ced7-4ba7-48b8-8456-852d87a71bb7",
   "metadata": {},
   "outputs": [
    {
     "data": {
      "text/plain": [
       "{'status': status\n",
       " closed     4784\n",
       " pending     109\n",
       " open         60\n",
       " solved       26\n",
       " new          15\n",
       " hold          9\n",
       " Name: count, dtype: int64,\n",
       " 'priority': priority\n",
       " high       2867\n",
       " normal     1727\n",
       " low         222\n",
       " unknown     126\n",
       " urgent       61\n",
       " Name: count, dtype: int64,\n",
       " 'alert_severity': alert_severity\n",
       " medium           2075\n",
       " high             1501\n",
       " not_specified     498\n",
       " critical          423\n",
       " low               323\n",
       " normal            159\n",
       " medium_            17\n",
       " urgent              7\n",
       " Name: count, dtype: int64,\n",
       " 'channel': channel\n",
       " web                  4933\n",
       " api                    48\n",
       " email                  13\n",
       " side_conversation       7\n",
       " voice                   1\n",
       " sample_ticket           1\n",
       " Name: count, dtype: int64}"
      ]
     },
     "execution_count": 13,
     "metadata": {},
     "output_type": "execute_result"
    }
   ],
   "source": [
    "category_distribution"
   ]
  },
  {
   "cell_type": "markdown",
   "id": "2087ca8d-9e64-4acb-b7d1-cd2c2eda65e1",
   "metadata": {},
   "source": [
    "#### 2.3 Verify Data Types\n",
    "\n",
    "- Validate numeric columns are not mistakenly stored as strings."
   ]
  },
  {
   "cell_type": "code",
   "execution_count": 14,
   "id": "01f6e5c1-d919-4fb5-ac2a-b965ef8a5a58",
   "metadata": {},
   "outputs": [
    {
     "data": {
      "text/plain": [
       "id                           int64\n",
       "subject                     object\n",
       "group_id                    object\n",
       "assigneename                object\n",
       "status                      object\n",
       "priority                    object\n",
       "created_at          datetime64[ns]\n",
       "updated_at          datetime64[ns]\n",
       "channel                     object\n",
       "organization_id             object\n",
       "product                     object\n",
       "alert_severity              object\n",
       "product_platform            object\n",
       "product_category            object\n",
       "dtype: object"
      ]
     },
     "execution_count": 14,
     "metadata": {},
     "output_type": "execute_result"
    }
   ],
   "source": [
    "df_cleaned.dtypes"
   ]
  },
  {
   "cell_type": "code",
   "execution_count": 15,
   "id": "d7be1b93-a9ac-4dff-be78-60c79aca60ca",
   "metadata": {},
   "outputs": [],
   "source": [
    "# Convert categorical columns to category data type\n",
    "categorical_columns = ['status', 'priority', 'alert_severity','channel']\n",
    "for col in categorical_columns:\n",
    "    df_cleaned[col] = df_cleaned[col].astype('category')"
   ]
  },
  {
   "cell_type": "code",
   "execution_count": 16,
   "id": "3a0feedc-fb4c-4d8a-b65f-82048eec819c",
   "metadata": {},
   "outputs": [
    {
     "data": {
      "text/plain": [
       "id                           int64\n",
       "subject                     object\n",
       "group_id                    object\n",
       "assigneename                object\n",
       "status                    category\n",
       "priority                  category\n",
       "created_at          datetime64[ns]\n",
       "updated_at          datetime64[ns]\n",
       "channel                   category\n",
       "organization_id             object\n",
       "product                     object\n",
       "alert_severity            category\n",
       "product_platform            object\n",
       "product_category            object\n",
       "dtype: object"
      ]
     },
     "execution_count": 16,
     "metadata": {},
     "output_type": "execute_result"
    }
   ],
   "source": [
    "df_cleaned.dtypes"
   ]
  },
  {
   "cell_type": "markdown",
   "id": "a7ec0d11-e90c-43e4-8090-4ca41609ed4c",
   "metadata": {},
   "source": [
    "#### 2.4 Data Standardization\n",
    "- Fix inconsistent formatting\n",
    "- Replacing `medium_` by `medium` value in `alert_severity`\n",
    "- Replacing \"_\" with \" \" from `Channel`\n",
    "- Capitalised the values of category columns\n",
    "- Remove unnecessary white spaces or special characters in text columns (`Already Removed`)"
   ]
  },
  {
   "cell_type": "code",
   "execution_count": 17,
   "id": "87a5e133-73cc-493c-816e-e4a5a28a404c",
   "metadata": {},
   "outputs": [],
   "source": [
    "df_cleaned['alert_severity'].replace('medium_', 'medium', inplace=True)"
   ]
  },
  {
   "cell_type": "code",
   "execution_count": 18,
   "id": "c2ffa9e9-af2e-49e5-a3cf-5aa26c40d74a",
   "metadata": {},
   "outputs": [
    {
     "data": {
      "text/plain": [
       "alert_severity\n",
       "medium           2092\n",
       "high             1501\n",
       "not_specified     498\n",
       "critical          423\n",
       "low               323\n",
       "normal            159\n",
       "urgent              7\n",
       "Name: count, dtype: int64"
      ]
     },
     "execution_count": 18,
     "metadata": {},
     "output_type": "execute_result"
    }
   ],
   "source": [
    "df_cleaned['alert_severity'].value_counts()"
   ]
  },
  {
   "cell_type": "code",
   "execution_count": 19,
   "id": "93859618-ec86-4f39-80b2-6c9815f36261",
   "metadata": {},
   "outputs": [],
   "source": [
    "df_cleaned['channel']=df_cleaned['channel'].str.replace('_',' ').str.capitalize()"
   ]
  },
  {
   "cell_type": "code",
   "execution_count": 20,
   "id": "cfe65ab4-d377-4f7a-b46a-dd6b2966f28e",
   "metadata": {},
   "outputs": [],
   "source": [
    "df_cleaned['priority']=df_cleaned['priority'].str.replace('_',' ').str.capitalize()"
   ]
  },
  {
   "cell_type": "code",
   "execution_count": 21,
   "id": "55c07447-0cc1-42bf-b659-b834abfc5262",
   "metadata": {},
   "outputs": [],
   "source": [
    "df_cleaned['status']=df_cleaned['status'].str.replace('_',' ').str.capitalize()"
   ]
  },
  {
   "cell_type": "code",
   "execution_count": 22,
   "id": "41f4bd97-fc95-40f4-9ed6-44f83816ecc8",
   "metadata": {},
   "outputs": [],
   "source": [
    "df_cleaned['product_category']=df_cleaned['product_category'].str.replace('_',' ').str.capitalize()"
   ]
  },
  {
   "cell_type": "code",
   "execution_count": 23,
   "id": "bc952220-a1f6-454c-b5f8-3c3e8c00e3bc",
   "metadata": {},
   "outputs": [],
   "source": [
    "df_cleaned['alert_severity']=df_cleaned['alert_severity'].str.replace('_',' ').str.capitalize()"
   ]
  },
  {
   "cell_type": "code",
   "execution_count": 24,
   "id": "c21dbb6f-05d1-4888-9286-68a3419366ed",
   "metadata": {},
   "outputs": [],
   "source": [
    "df_cleaned['product']=df_cleaned['product'].str.replace('_',' ').str.capitalize()"
   ]
  },
  {
   "cell_type": "code",
   "execution_count": 25,
   "id": "330bcd0c-04bb-49cf-ad5e-380720a9eb8b",
   "metadata": {},
   "outputs": [
    {
     "data": {
      "text/html": [
       "<div>\n",
       "<style scoped>\n",
       "    .dataframe tbody tr th:only-of-type {\n",
       "        vertical-align: middle;\n",
       "    }\n",
       "\n",
       "    .dataframe tbody tr th {\n",
       "        vertical-align: top;\n",
       "    }\n",
       "\n",
       "    .dataframe thead th {\n",
       "        text-align: right;\n",
       "    }\n",
       "</style>\n",
       "<table border=\"1\" class=\"dataframe\">\n",
       "  <thead>\n",
       "    <tr style=\"text-align: right;\">\n",
       "      <th></th>\n",
       "      <th>id</th>\n",
       "      <th>subject</th>\n",
       "      <th>group_id</th>\n",
       "      <th>assigneename</th>\n",
       "      <th>status</th>\n",
       "      <th>priority</th>\n",
       "      <th>created_at</th>\n",
       "      <th>updated_at</th>\n",
       "      <th>channel</th>\n",
       "      <th>organization_id</th>\n",
       "      <th>product</th>\n",
       "      <th>alert_severity</th>\n",
       "      <th>product_platform</th>\n",
       "      <th>product_category</th>\n",
       "    </tr>\n",
       "  </thead>\n",
       "  <tbody>\n",
       "    <tr>\n",
       "      <th>0</th>\n",
       "      <td>5437</td>\n",
       "      <td>spam</td>\n",
       "      <td>SRC - L1</td>\n",
       "      <td>John brain</td>\n",
       "      <td>Open</td>\n",
       "      <td>Unknown</td>\n",
       "      <td>2023-12-26 01:35:00</td>\n",
       "      <td>2023-12-26 01:36:00</td>\n",
       "      <td>Web</td>\n",
       "      <td>Microsoft SRC</td>\n",
       "      <td>Not specified</td>\n",
       "      <td>Not specified</td>\n",
       "      <td>unknown</td>\n",
       "      <td>Unknown</td>\n",
       "    </tr>\n",
       "    <tr>\n",
       "      <th>1</th>\n",
       "      <td>5436</td>\n",
       "      <td>Infinity - SentinelOne - Black Hash is added/...</td>\n",
       "      <td>SRC - L1</td>\n",
       "      <td>Nir Handa</td>\n",
       "      <td>Solved</td>\n",
       "      <td>Normal</td>\n",
       "      <td>2023-12-26 00:57:00</td>\n",
       "      <td>2023-12-26 01:00:00</td>\n",
       "      <td>Web</td>\n",
       "      <td>Infinity</td>\n",
       "      <td>Generic / other  temp</td>\n",
       "      <td>Medium</td>\n",
       "      <td>on-prem</td>\n",
       "      <td>Endpointsecurityedr</td>\n",
       "    </tr>\n",
       "    <tr>\n",
       "      <th>2</th>\n",
       "      <td>5435</td>\n",
       "      <td>Suspicious email with malicious attachment</td>\n",
       "      <td>SRC - L1</td>\n",
       "      <td>unassigned</td>\n",
       "      <td>Open</td>\n",
       "      <td>High</td>\n",
       "      <td>2023-12-26 00:52:00</td>\n",
       "      <td>2023-12-26 00:59:00</td>\n",
       "      <td>Web</td>\n",
       "      <td>Bosch</td>\n",
       "      <td>Not specified</td>\n",
       "      <td>Not specified</td>\n",
       "      <td>unknown</td>\n",
       "      <td>Unknown</td>\n",
       "    </tr>\n",
       "    <tr>\n",
       "      <th>3</th>\n",
       "      <td>5433</td>\n",
       "      <td>Honda - GCP GKE - User Attempts Multiple Denie...</td>\n",
       "      <td>SRC - L1</td>\n",
       "      <td>Omer Lakhmani</td>\n",
       "      <td>Open</td>\n",
       "      <td>Normal</td>\n",
       "      <td>2023-12-26 00:34:00</td>\n",
       "      <td>2023-12-26 00:35:00</td>\n",
       "      <td>Web</td>\n",
       "      <td>Honda</td>\n",
       "      <td>Cloud provider / service  gcp - gke</td>\n",
       "      <td>Medium</td>\n",
       "      <td>gcp</td>\n",
       "      <td>Cloud provider / service</td>\n",
       "    </tr>\n",
       "    <tr>\n",
       "      <th>4</th>\n",
       "      <td>5432</td>\n",
       "      <td>Volvo : GuardDuty - Medium Severity Event</td>\n",
       "      <td>SRC - L1</td>\n",
       "      <td>Omer Lakhmani</td>\n",
       "      <td>Pending</td>\n",
       "      <td>Normal</td>\n",
       "      <td>2023-12-25 22:55:00</td>\n",
       "      <td>2023-12-25 22:55:00</td>\n",
       "      <td>Web</td>\n",
       "      <td>Volvo</td>\n",
       "      <td>Cloud provider / service  aws guardduty</td>\n",
       "      <td>Medium</td>\n",
       "      <td>aws_platform</td>\n",
       "      <td>Cloud provider / service</td>\n",
       "    </tr>\n",
       "  </tbody>\n",
       "</table>\n",
       "</div>"
      ],
      "text/plain": [
       "     id                                            subject  group_id  \\\n",
       "0  5437                                               spam  SRC - L1   \n",
       "1  5436   Infinity - SentinelOne - Black Hash is added/...  SRC - L1   \n",
       "2  5435         Suspicious email with malicious attachment  SRC - L1   \n",
       "3  5433  Honda - GCP GKE - User Attempts Multiple Denie...  SRC - L1   \n",
       "4  5432          Volvo : GuardDuty - Medium Severity Event  SRC - L1   \n",
       "\n",
       "    assigneename   status priority          created_at          updated_at  \\\n",
       "0     John brain     Open  Unknown 2023-12-26 01:35:00 2023-12-26 01:36:00   \n",
       "1      Nir Handa   Solved   Normal 2023-12-26 00:57:00 2023-12-26 01:00:00   \n",
       "2     unassigned     Open     High 2023-12-26 00:52:00 2023-12-26 00:59:00   \n",
       "3  Omer Lakhmani     Open   Normal 2023-12-26 00:34:00 2023-12-26 00:35:00   \n",
       "4  Omer Lakhmani  Pending   Normal 2023-12-25 22:55:00 2023-12-25 22:55:00   \n",
       "\n",
       "  channel organization_id                                  product  \\\n",
       "0     Web   Microsoft SRC                            Not specified   \n",
       "1     Web        Infinity                    Generic / other  temp   \n",
       "2     Web           Bosch                            Not specified   \n",
       "3     Web           Honda      Cloud provider / service  gcp - gke   \n",
       "4     Web           Volvo  Cloud provider / service  aws guardduty   \n",
       "\n",
       "  alert_severity product_platform          product_category  \n",
       "0  Not specified          unknown                   Unknown  \n",
       "1         Medium          on-prem       Endpointsecurityedr  \n",
       "2  Not specified          unknown                   Unknown  \n",
       "3         Medium              gcp  Cloud provider / service  \n",
       "4         Medium     aws_platform  Cloud provider / service  "
      ]
     },
     "execution_count": 25,
     "metadata": {},
     "output_type": "execute_result"
    }
   ],
   "source": [
    "df_cleaned.head(5)"
   ]
  },
  {
   "cell_type": "markdown",
   "id": "5962f48b-c7e3-46fb-bc98-8332347485bc",
   "metadata": {},
   "source": [
    "#### 2.5 Validate Data Consistency\n",
    "- Check for valid date ranges (e.g., `updated_at` should not be earlier than `created_at`).\n",
    "- Verify that ID and other usefull columns (e.g., `organization_id`, `Subject`) have valid entries."
   ]
  },
  {
   "cell_type": "code",
   "execution_count": 26,
   "id": "44a77870-7aca-4c83-bcfc-95cbc5844ebb",
   "metadata": {},
   "outputs": [],
   "source": [
    "df_cleaned['valid_date_range'] = df_cleaned['updated_at'] >= df_cleaned['created_at']\n",
    "\n",
    "# Step 3: Validate unique and non-null IDs\n",
    "# Check for duplicates and missing values in `organization_id`\n",
    "df_cleaned['valid_id'] = df_cleaned['organization_id'].notnull() & ~df_cleaned.duplicated()\n",
    "\n",
    "# Step 4: Filter inconsistent rows (if necessary)\n",
    "invalid_rows = df_cleaned[~(df_cleaned['valid_date_range'] & df_cleaned['valid_id'])]"
   ]
  },
  {
   "cell_type": "code",
   "execution_count": 36,
   "id": "b0bbac0e-6149-4fe0-8be9-35407deb8342",
   "metadata": {},
   "outputs": [
    {
     "data": {
      "text/plain": [
       "0"
      ]
     },
     "execution_count": 36,
     "metadata": {},
     "output_type": "execute_result"
    }
   ],
   "source": [
    "len(invalid_rows)"
   ]
  },
  {
   "cell_type": "markdown",
   "id": "b9f8190c-ae56-4311-a24f-a46ac708d5e7",
   "metadata": {},
   "source": [
    "#### 2.6 Data Exploration for Spam or Test Entries\n",
    "- Filter records with \"spam\", \"test\", and numerical values in `Subject` column"
   ]
  },
  {
   "cell_type": "code",
   "execution_count": 28,
   "id": "98be8962-05ec-4fcb-84ff-47832e8aaff0",
   "metadata": {},
   "outputs": [],
   "source": [
    "# Use regular expressions to identify unwanted rows\n",
    "pattern = r'\\b(spam|test)\\b|^\\d+'  # Matches \"spam\", \"test\", or any numerical value\n",
    "\n",
    "# Step 2: Remove rows where the Subject column matches the pattern\n",
    "filtered_df = df_cleaned[~df_cleaned['subject'].str.contains(pattern, case=False, na=False)]"
   ]
  },
  {
   "cell_type": "code",
   "execution_count": 29,
   "id": "be96f1d7-9c6e-4ff5-9676-859e761587ce",
   "metadata": {
    "scrolled": true
   },
   "outputs": [],
   "source": [
    "spam_subject = list(df_cleaned[df_cleaned['subject'].str.contains(r'\\b(spam|test)\\b|^\\d+', case=False, na=False)]['subject'])"
   ]
  },
  {
   "cell_type": "code",
   "execution_count": 30,
   "id": "a2172174-d44d-4adb-b25e-a7e70f4e5387",
   "metadata": {
    "scrolled": true
   },
   "outputs": [
    {
     "data": {
      "text/plain": [
       "['spam',\n",
       " 'Test Description to couple of IAM test for GCP CSPM',\n",
       " 'Re: John - test alert111',\n",
       " 'NISSAN - CSPM Test - RDS transport encryption enabled',\n",
       " 'John - test alert111',\n",
       " 'John - test alert111',\n",
       " '360 Learning - Ford - Orca - High Risk Alert',\n",
       " 'John - test alert111',\n",
       " 'John - test alert111',\n",
       " 'John - test alert111',\n",
       " 'John - test alert111',\n",
       " 'John - test alert111',\n",
       " 'John - test alert111',\n",
       " 'John - test alert111',\n",
       " 'John - test alert111',\n",
       " 'John - test alert111',\n",
       " 'John - test alert111',\n",
       " 'John - test alert111',\n",
       " 'John - test alert111',\n",
       " 'John - test alert111',\n",
       " 'John - test alert111',\n",
       " 'test - please dont close!!!',\n",
       " 'John - test alert111',\n",
       " 'FOX - test alert4',\n",
       " 'John - test alert11',\n",
       " 'John - test alert',\n",
       " 'John - test alert',\n",
       " 'John - test alert11',\n",
       " 'John - test alert11',\n",
       " 'John - test alert11',\n",
       " 'John - test alert1',\n",
       " 'Aeries - CSPM Test',\n",
       " 'BMW - CSPM Test',\n",
       " 'Castro - CSPM Test',\n",
       " '123123123',\n",
       " 'KIA - CSPM Test- Critical Checks Failed Report',\n",
       " 'JupiterMoney - CSPM Test -  Elasticache redis is encrypted at rest',\n",
       " 'JungleeGames - CSPM Test',\n",
       " 'Saas - CSPM Test',\n",
       " 'Angelbroking - CSPM Test',\n",
       " 'Volvo - CSPM Test - Elasticache cluster is using the latest engine version',\n",
       " 'Volvo - CSPM Test',\n",
       " 'Volvo - CSPM Test - KMS key rotation is enabled',\n",
       " 'Volvo - CSPM Test - RDS is encrypted',\n",
       " ' Volvo - CSPM Test - EKS clusters secrets are encrypted',\n",
       " \"Volvo - CSPM Test - S3 Bucket policy doesn't allow global GET action\",\n",
       " 'Honda - CSPM Test - RDS transport encryption enabled',\n",
       " 'Volvo - CSPM Test - EKS API server is not publicly accessible',\n",
       " 'Honda - CSPM Test - RDS instance is not publicly accessible',\n",
       " 'test Jira Integration',\n",
       " 'Test - Owner - Daniel @ Gmail',\n",
       " 'test',\n",
       " 'test',\n",
       " 'Mazda - Test',\n",
       " 'Mazda - Test',\n",
       " 'Mazda - Test',\n",
       " 'test ',\n",
       " 'Test Ticket  - Mazda (Hight)',\n",
       " 'Mazda - Test Alert',\n",
       " 'Test Jira Integration',\n",
       " 'Suzuki - CSPM Test - Lambda function is using the latest runtime',\n",
       " 'Suzuki - CSPM Test - Security group restricts inbound Telnet access',\n",
       " 'Suzuki - CSPM Test - EKS API server is not publicly accessible',\n",
       " 'Suzuki - CSPM Test - KMS key rotation is enabled',\n",
       " 'Suzuki - CSPM Test - MFA is enabled for root account',\n",
       " 'Filter Test',\n",
       " 'Suzuki - CSPM Test -  Elasticache redis is encrypted at rest',\n",
       " 'Suzuki - CSPM Test - S3 Bucket is encrypted',\n",
       " 'Suzuki : CSPM Test - EBS volume is attached to an EC2 instance',\n",
       " 'Suzuki - CSPM Test - RDS instance is not publicly accessible',\n",
       " 'Suzuki - CSPM Test - IAM user has MFA enabled for console access',\n",
       " 'test',\n",
       " 'test',\n",
       " 'Mazda : CSPM Test - EBS volume is attached to an EC2 instance',\n",
       " 'Mazda : CSPM Test - is IAM user has MFA enabled for console access',\n",
       " 'Mazda : CSPM Test - Security Group restricts inbound telnet access ',\n",
       " 'test',\n",
       " 'test india',\n",
       " 'test Anna Gilad',\n",
       " 'test ',\n",
       " 'test ticket',\n",
       " 'test proactive ticket1',\n",
       " 'test portal',\n",
       " \"test ticket - don't delete!\",\n",
       " \"test public comment - Don't delete!\",\n",
       " 'test 123',\n",
       " 'OS - test',\n",
       " 'test']"
      ]
     },
     "execution_count": 30,
     "metadata": {},
     "output_type": "execute_result"
    }
   ],
   "source": [
    "spam_subject"
   ]
  },
  {
   "cell_type": "code",
   "execution_count": 31,
   "id": "c1cf43cc-2580-4878-a26f-24c6215f3687",
   "metadata": {},
   "outputs": [
    {
     "data": {
      "text/plain": [
       "(4915, 16)"
      ]
     },
     "execution_count": 31,
     "metadata": {},
     "output_type": "execute_result"
    }
   ],
   "source": [
    "filtered_df.shape"
   ]
  },
  {
   "cell_type": "code",
   "execution_count": 32,
   "id": "b7de6c4d-6de5-4231-aa21-ee9f42a3ffbe",
   "metadata": {},
   "outputs": [],
   "source": [
    "filtered_df.columns = filtered_df.columns.str.replace('_',' ').str.capitalize()"
   ]
  },
  {
   "cell_type": "markdown",
   "id": "4ef170b9-c5ae-4123-9d40-3c9e5a4150a2",
   "metadata": {},
   "source": [
    "## 3. Clean Data Extraction \n",
    "- Prepare visualization charts via Power BI"
   ]
  },
  {
   "cell_type": "code",
   "execution_count": 33,
   "id": "1403254e-cdd9-4e1e-ac8e-8b96d97a1e32",
   "metadata": {},
   "outputs": [],
   "source": [
    "filtered_df.drop(columns=['Valid id','Valid date range'], inplace=True)"
   ]
  },
  {
   "cell_type": "code",
   "execution_count": 34,
   "id": "7994834c-d4c3-4914-b2c0-92ba91d4850c",
   "metadata": {},
   "outputs": [],
   "source": [
    "filtered_df.to_csv(r'C:\\Users\\shailesh.suthar\\Downloads\\Selu\\jupyter\\Clean data - Shailesh Suthar.csv')"
   ]
  },
  {
   "cell_type": "code",
   "execution_count": 35,
   "id": "fb3cc0ee-b9d5-44e8-a558-565ba470f0ec",
   "metadata": {},
   "outputs": [
    {
     "data": {
      "text/plain": [
       "Index(['Id', 'Subject', 'Group id', 'Assigneename', 'Status', 'Priority',\n",
       "       'Created at', 'Updated at', 'Channel', 'Organization id', 'Product',\n",
       "       'Alert severity', 'Product platform', 'Product category'],\n",
       "      dtype='object')"
      ]
     },
     "execution_count": 35,
     "metadata": {},
     "output_type": "execute_result"
    }
   ],
   "source": [
    "filtered_df.columns"
   ]
  },
  {
   "cell_type": "code",
   "execution_count": null,
   "id": "f571e927-cd85-4732-b6f1-271b9da7ad78",
   "metadata": {},
   "outputs": [],
   "source": []
  },
  {
   "cell_type": "code",
   "execution_count": null,
   "id": "23bd9a03-188b-4615-a0bf-16a14a6c6eb6",
   "metadata": {},
   "outputs": [],
   "source": []
  },
  {
   "cell_type": "code",
   "execution_count": null,
   "id": "bc058aee-ba0f-4562-95b9-9fd58924483a",
   "metadata": {},
   "outputs": [],
   "source": []
  }
 ],
 "metadata": {
  "kernelspec": {
   "display_name": "Python (myenv)",
   "language": "python",
   "name": "myenv"
  },
  "language_info": {
   "codemirror_mode": {
    "name": "ipython",
    "version": 3
   },
   "file_extension": ".py",
   "mimetype": "text/x-python",
   "name": "python",
   "nbconvert_exporter": "python",
   "pygments_lexer": "ipython3",
   "version": "3.12.4"
  }
 },
 "nbformat": 4,
 "nbformat_minor": 5
}
